{
 "cells": [
  {
   "cell_type": "markdown",
   "metadata": {},
   "source": [
    "# <span style=\"color:darkgreen\">Surf's Up! - Homework: 10-SQLAlchemy</span>\n",
    "Author: Jeffery Brown (daddyjab)<br>\n",
    "Date: 2/3/19\n",
    "\n",
    "\n",
    "# <span style=\"color:darkblue\">Summary:</span>\n",
    "* Summary point 1: Target vacation start and end dates (3 to 15 days total duration) and reasons why\n",
    "<br><br>\n",
    "* Summary point 2\n",
    "\n",
    "---"
   ]
  },
  {
   "cell_type": "markdown",
   "metadata": {},
   "source": [
    "# <span style=\"color:darkblue\">Data Gathered and Plotted</span>\n",
    "* Data plotted 1\n",
    "<br><br> \n",
    "* Data plotted 2\n",
    "<br><br>\n",
    "* Data plotted 3\n",
    "\n",
    "---"
   ]
  },
  {
   "cell_type": "markdown",
   "metadata": {},
   "source": [
    "# <span style=\"color:darkblue\">Results</span>"
   ]
  },
  {
   "cell_type": "markdown",
   "metadata": {},
   "source": [
    "## <span style=\"color:blue\">Result A</span>\n",
    "* Result point 1 \n",
    "* Result point 1 \n",
    "\n",
    "|Plot 1 Title|Plot 2 Title|\n",
    "|-----------|------------------|\n",
    "|<img src=\"Images/plot.png\" /> | <img src=\"Images/plot.png\" /> |\n",
    "\n",
    "* Result point 3\n",
    "* Result point 4 \n",
    "\n",
    "---"
   ]
  },
  {
   "cell_type": "markdown",
   "metadata": {},
   "source": []
  },
  {
   "cell_type": "markdown",
   "metadata": {},
   "source": [
    "# <span style=\"color:blue\">Dependencies</span>"
   ]
  },
  {
   "cell_type": "code",
   "execution_count": 1,
   "metadata": {},
   "outputs": [],
   "source": [
    "%matplotlib inline\n",
    "from matplotlib import style\n",
    "style.use('fivethirtyeight')\n",
    "import matplotlib.pyplot as plt"
   ]
  },
  {
   "cell_type": "code",
   "execution_count": 2,
   "metadata": {},
   "outputs": [],
   "source": [
    "import numpy as np\n",
    "import pandas as pd\n",
    "import datetime as dt"
   ]
  },
  {
   "cell_type": "code",
   "execution_count": 58,
   "metadata": {},
   "outputs": [],
   "source": [
    "from pprint import pprint\n",
    "from flask import jsonify\n"
   ]
  },
  {
   "cell_type": "code",
   "execution_count": 4,
   "metadata": {},
   "outputs": [],
   "source": [
    "# Python SQL toolkit and Object Relational Mapper\n",
    "import sqlalchemy\n",
    "from sqlalchemy.ext.automap import automap_base\n",
    "from sqlalchemy.orm import Session\n",
    "from sqlalchemy import create_engine, inspect, func"
   ]
  },
  {
   "cell_type": "markdown",
   "metadata": {},
   "source": [
    "# <span style=\"color:blue\">Reflect Tables into SQLAlchemy ORM</span>"
   ]
  },
  {
   "cell_type": "code",
   "execution_count": 5,
   "metadata": {},
   "outputs": [],
   "source": [
    "engine = create_engine(\"sqlite:///Resources/hawaii.sqlite\")"
   ]
  },
  {
   "cell_type": "code",
   "execution_count": 6,
   "metadata": {},
   "outputs": [],
   "source": [
    "# reflect an existing database into a new model\n",
    "Base = automap_base()\n",
    "# reflect the tables\n",
    "Base.prepare(engine, reflect=True)"
   ]
  },
  {
   "cell_type": "code",
   "execution_count": 7,
   "metadata": {},
   "outputs": [
    {
     "data": {
      "text/plain": [
       "['measurement', 'station']"
      ]
     },
     "execution_count": 7,
     "metadata": {},
     "output_type": "execute_result"
    }
   ],
   "source": [
    "# We can view all of the classes that automap found\n",
    "Base.classes.keys()"
   ]
  },
  {
   "cell_type": "code",
   "execution_count": 8,
   "metadata": {},
   "outputs": [],
   "source": [
    "# Save references to each table\n",
    "Measurement = Base.classes.measurement\n",
    "Station = Base.classes.station"
   ]
  },
  {
   "cell_type": "code",
   "execution_count": 9,
   "metadata": {},
   "outputs": [],
   "source": [
    "# Create our session (link) from Python to the DB\n",
    "session = Session(engine)"
   ]
  },
  {
   "cell_type": "markdown",
   "metadata": {},
   "source": [
    "# <span style=\"color:blue\">Data Exploration</span>"
   ]
  },
  {
   "cell_type": "code",
   "execution_count": 10,
   "metadata": {},
   "outputs": [],
   "source": [
    "insp = inspect(engine)"
   ]
  },
  {
   "cell_type": "markdown",
   "metadata": {},
   "source": [
    "## Station Data Exploration"
   ]
  },
  {
   "cell_type": "code",
   "execution_count": 11,
   "metadata": {},
   "outputs": [
    {
     "data": {
      "text/plain": [
       "[Column('id', INTEGER(), table=<station>, primary_key=True, nullable=False),\n",
       " Column('station', TEXT(), table=<station>),\n",
       " Column('name', TEXT(), table=<station>),\n",
       " Column('latitude', FLOAT(), table=<station>),\n",
       " Column('longitude', FLOAT(), table=<station>),\n",
       " Column('elevation', FLOAT(), table=<station>)]"
      ]
     },
     "execution_count": 11,
     "metadata": {},
     "output_type": "execute_result"
    }
   ],
   "source": [
    "# Look at the table schema\n",
    "Station.__table__.columns.values()"
   ]
  },
  {
   "cell_type": "code",
   "execution_count": 12,
   "metadata": {},
   "outputs": [
    {
     "name": "stdout",
     "output_type": "stream",
     "text": [
      "ID: 1, Station: USC00519397, Name: 'WAIKIKI 717.2, HI US', Lat: 21.2716/Long: -157.8168, Elev: 3.0\n",
      "ID: 2, Station: USC00513117, Name: 'KANEOHE 838.1, HI US', Lat: 21.4234/Long: -157.8015, Elev: 14.6\n",
      "ID: 3, Station: USC00514830, Name: 'KUALOA RANCH HEADQUARTERS 886.9, HI US', Lat: 21.5213/Long: -157.8374, Elev: 7.0\n",
      "ID: 4, Station: USC00517948, Name: 'PEARL CITY, HI US', Lat: 21.3934/Long: -157.9751, Elev: 11.9\n",
      "ID: 5, Station: USC00518838, Name: 'UPPER WAHIAWA 874.3, HI US', Lat: 21.4992/Long: -158.0111, Elev: 306.6\n"
     ]
    }
   ],
   "source": [
    "s_samp = session.query(Station).limit(5)\n",
    "for s in s_samp:\n",
    "        print(f\"ID: {s.id}, Station: {s.station}, Name: '{s.name}', Lat: {s.latitude}/Long: {s.longitude}, Elev: {s.elevation}\")"
   ]
  },
  {
   "cell_type": "code",
   "execution_count": 13,
   "metadata": {},
   "outputs": [
    {
     "data": {
      "text/plain": [
       "9"
      ]
     },
     "execution_count": 13,
     "metadata": {},
     "output_type": "execute_result"
    }
   ],
   "source": [
    "s_count = session.query(Station).count()\n",
    "s_count"
   ]
  },
  {
   "cell_type": "markdown",
   "metadata": {},
   "source": [
    "## Measurement Data Exploration"
   ]
  },
  {
   "cell_type": "code",
   "execution_count": 14,
   "metadata": {},
   "outputs": [
    {
     "data": {
      "text/plain": [
       "[Column('id', INTEGER(), table=<measurement>, primary_key=True, nullable=False),\n",
       " Column('station', TEXT(), table=<measurement>),\n",
       " Column('date', TEXT(), table=<measurement>),\n",
       " Column('prcp', FLOAT(), table=<measurement>),\n",
       " Column('tobs', FLOAT(), table=<measurement>)]"
      ]
     },
     "execution_count": 14,
     "metadata": {},
     "output_type": "execute_result"
    }
   ],
   "source": [
    "# Look at the table schema\n",
    "Measurement.__table__.columns.values()"
   ]
  },
  {
   "cell_type": "code",
   "execution_count": 15,
   "metadata": {},
   "outputs": [
    {
     "name": "stdout",
     "output_type": "stream",
     "text": [
      "ID: 1, Station: USC00519397, Date: 2010-01-01, Prcp: 0.08, Tobs: 65.0\n",
      "ID: 2, Station: USC00519397, Date: 2010-01-02, Prcp: 0.0, Tobs: 63.0\n",
      "ID: 3, Station: USC00519397, Date: 2010-01-03, Prcp: 0.0, Tobs: 74.0\n",
      "ID: 4, Station: USC00519397, Date: 2010-01-04, Prcp: 0.0, Tobs: 76.0\n",
      "ID: 5, Station: USC00519397, Date: 2010-01-06, Prcp: None, Tobs: 73.0\n"
     ]
    }
   ],
   "source": [
    "m_samp = session.query(Measurement).limit(5)\n",
    "for m in m_samp:\n",
    "        print(f\"ID: {m.id}, Station: {m.station}, Date: {m.date}, Prcp: {m.prcp}, Tobs: {m.tobs}\")"
   ]
  },
  {
   "cell_type": "code",
   "execution_count": 16,
   "metadata": {},
   "outputs": [
    {
     "data": {
      "text/plain": [
       "19550"
      ]
     },
     "execution_count": 16,
     "metadata": {},
     "output_type": "execute_result"
    }
   ],
   "source": [
    "m_count = session.query(Measurement).count()\n",
    "m_count"
   ]
  },
  {
   "cell_type": "markdown",
   "metadata": {},
   "source": [
    "# <span style=\"color:blue\">Climate Analysis</span>"
   ]
  },
  {
   "cell_type": "markdown",
   "metadata": {},
   "source": [
    "## Precipitation Analysis"
   ]
  },
  {
   "cell_type": "code",
   "execution_count": 17,
   "metadata": {},
   "outputs": [
    {
     "name": "stdout",
     "output_type": "stream",
     "text": [
      "Oldest Date: 2010-01-01, Newest Date: 2017-08-23\n"
     ]
    }
   ],
   "source": [
    "# Determine the oldest and newest dates in the measurement data\n",
    "m_date_info = session.query(func.max(Measurement.date), func.min(Measurement.date))\n",
    "m_date_max, m_date_min = m_date_info[0]\n",
    "print(f\"Oldest Date: {m_date_min}, Newest Date: {m_date_max}\")"
   ]
  },
  {
   "cell_type": "code",
   "execution_count": 18,
   "metadata": {},
   "outputs": [
    {
     "data": {
      "text/plain": [
       "datetime.datetime(2017, 8, 23, 0, 0)"
      ]
     },
     "execution_count": 18,
     "metadata": {},
     "output_type": "execute_result"
    }
   ],
   "source": [
    "# Determine the 12 month date window needed for the query\n",
    "# Calc the End date of the 12 month period\n",
    "m_date_end = dt.datetime.strptime(m_date_max, \"%Y-%m-%d\")\n",
    "m_date_end"
   ]
  },
  {
   "cell_type": "code",
   "execution_count": 19,
   "metadata": {},
   "outputs": [
    {
     "data": {
      "text/plain": [
       "datetime.datetime(2016, 8, 23, 0, 0)"
      ]
     },
     "execution_count": 19,
     "metadata": {},
     "output_type": "execute_result"
    }
   ],
   "source": [
    "# Calc the Start date of the 12 month period\n",
    "m_date_start = m_date_end - dt.timedelta(days=365)\n",
    "m_date_start"
   ]
  },
  {
   "cell_type": "code",
   "execution_count": 20,
   "metadata": {
    "scrolled": true
   },
   "outputs": [
    {
     "name": "stdout",
     "output_type": "stream",
     "text": [
      "('2016-08-24', 1.5549999999999997)\n",
      "('2016-08-25', 0.07714285714285715)\n",
      "('2016-08-26', 0.016666666666666666)\n",
      "('2016-08-27', 0.06399999999999999)\n",
      "('2016-08-28', 0.5166666666666666)\n",
      "('2016-08-29', 0.24333333333333332)\n",
      "('2016-08-30', 0.011666666666666667)\n",
      "('2016-08-31', 0.6359999999999999)\n",
      "('2016-09-01', 0.006)\n",
      "('2016-09-02', 0.05)\n",
      "('2016-09-03', 0.254)\n",
      "('2016-09-04', 0.276)\n",
      "('2016-09-05', 0.08499999999999999)\n",
      "('2016-09-06', 0.246)\n",
      "('2016-09-07', 0.3333333333333333)\n",
      "('2016-09-08', 0.07666666666666667)\n",
      "('2016-09-09', 0.17833333333333332)\n",
      "('2016-09-10', 0.27999999999999997)\n",
      "('2016-09-11', 0.25)\n",
      "('2016-09-12', 0.308)\n",
      "('2016-09-13', 0.45166666666666666)\n",
      "('2016-09-14', 2.3800000000000003)\n",
      "('2016-09-15', 0.8266666666666667)\n",
      "('2016-09-16', 0.11714285714285715)\n",
      "('2016-09-17', 0.13599999999999998)\n",
      "('2016-09-18', 0.10600000000000001)\n",
      "('2016-09-19', 0.064)\n",
      "('2016-09-20', 0.14714285714285716)\n",
      "('2016-09-21', 0.19499999999999998)\n",
      "('2016-09-22', 0.2057142857142857)\n",
      "('2016-09-23', 0.22428571428571428)\n",
      "('2016-09-24', 0.04666666666666667)\n",
      "('2016-09-25', 0.015)\n",
      "('2016-09-26', 0.2783333333333333)\n",
      "('2016-09-27', 0.22666666666666666)\n",
      "('2016-09-28', 0.018571428571428572)\n",
      "('2016-09-29', 0.42714285714285716)\n",
      "('2016-09-30', 0.19166666666666665)\n",
      "('2016-10-01', 0.2416666666666667)\n",
      "('2016-10-02', 0.12)\n",
      "('2016-10-03', 0.115)\n",
      "('2016-10-04', 0.5816666666666667)\n",
      "('2016-10-05', 0.1366666666666667)\n",
      "('2016-10-06', 0.022857142857142857)\n",
      "('2016-10-07', 0.0016666666666666668)\n",
      "('2016-10-08', 0.008)\n",
      "('2016-10-09', 0.0)\n",
      "('2016-10-10', 0.0)\n",
      "('2016-10-11', 0.11499999999999999)\n",
      "('2016-10-12', 0.013333333333333334)\n",
      "('2016-10-13', 0.013333333333333334)\n",
      "('2016-10-14', 0.0)\n",
      "('2016-10-15', 0.065)\n",
      "('2016-10-16', 0.0)\n",
      "('2016-10-17', 0.11000000000000001)\n",
      "('2016-10-18', 0.09999999999999999)\n",
      "('2016-10-19', 0.028333333333333332)\n",
      "('2016-10-20', 0.202)\n",
      "('2016-10-21', 0.064)\n",
      "('2016-10-22', 0.354)\n",
      "('2016-10-23', 0.055999999999999994)\n",
      "('2016-10-24', 0.13166666666666665)\n",
      "('2016-10-25', 0.15714285714285717)\n",
      "('2016-10-26', 0.04833333333333334)\n",
      "('2016-10-27', 0.31)\n",
      "('2016-10-28', 0.09500000000000001)\n",
      "('2016-10-29', 0.10666666666666667)\n",
      "('2016-10-30', 0.26499999999999996)\n",
      "('2016-10-31', 0.26833333333333337)\n",
      "('2016-11-01', 0.035)\n",
      "('2016-11-02', 0.006666666666666667)\n",
      "('2016-11-03', 0.0033333333333333335)\n",
      "('2016-11-04', 0.01)\n",
      "('2016-11-05', 0.075)\n",
      "('2016-11-06', 0.013333333333333334)\n",
      "('2016-11-07', 0.03)\n",
      "('2016-11-08', 0.18666666666666668)\n",
      "('2016-11-09', 0.05714285714285714)\n",
      "('2016-11-10', 0.0016666666666666668)\n",
      "('2016-11-11', 0.0)\n",
      "('2016-11-12', 0.0)\n",
      "('2016-11-13', 0.0)\n",
      "('2016-11-14', 0.02142857142857143)\n",
      "('2016-11-15', 0.008333333333333333)\n",
      "('2016-11-16', 0.25666666666666665)\n",
      "('2016-11-17', 0.01)\n",
      "('2016-11-18', 0.0075)\n",
      "('2016-11-19', 0.095)\n",
      "('2016-11-20', 0.23750000000000002)\n",
      "('2016-11-21', 0.616)\n",
      "('2016-11-22', 1.002)\n",
      "('2016-11-23', 0.134)\n",
      "('2016-11-24', 0.296)\n",
      "('2016-11-25', 0.264)\n",
      "('2016-11-26', 0.085)\n",
      "('2016-11-27', 0.09166666666666667)\n",
      "('2016-11-28', 0.12)\n",
      "('2016-11-29', 0.07166666666666667)\n",
      "('2016-11-30', 0.17666666666666667)\n",
      "('2016-12-01', 0.295)\n",
      "('2016-12-02', 0.3933333333333333)\n",
      "('2016-12-03', 0.45166666666666666)\n",
      "('2016-12-04', 0.13333333333333333)\n",
      "('2016-12-05', 0.54)\n",
      "('2016-12-06', 0.008)\n",
      "('2016-12-07', 0.076)\n",
      "('2016-12-08', 0.06571428571428573)\n",
      "('2016-12-09', 0.37)\n",
      "('2016-12-10', 0.026000000000000002)\n",
      "('2016-12-11', 0.05)\n",
      "('2016-12-12', 0.008333333333333333)\n",
      "('2016-12-13', 0.12833333333333333)\n",
      "('2016-12-14', 0.25)\n",
      "('2016-12-15', 0.043333333333333335)\n",
      "('2016-12-16', 0.006666666666666667)\n",
      "('2016-12-17', 0.07)\n",
      "('2016-12-18', 0.178)\n",
      "('2016-12-19', 0.07)\n",
      "('2016-12-20', 0.005)\n",
      "('2016-12-21', 0.1285714285714286)\n",
      "('2016-12-22', 0.4116666666666666)\n",
      "('2016-12-23', 0.205)\n",
      "('2016-12-24', 0.27)\n",
      "('2016-12-25', 0.086)\n",
      "('2016-12-26', 0.40800000000000003)\n",
      "('2016-12-27', 0.04)\n",
      "('2016-12-28', 0.06833333333333334)\n",
      "('2016-12-29', 0.39666666666666667)\n",
      "('2016-12-30', 0.5583333333333333)\n",
      "('2016-12-31', 0.42800000000000005)\n",
      "('2017-01-01', 0.06999999999999999)\n",
      "('2017-01-02', 0.004)\n",
      "('2017-01-03', 0.0)\n",
      "('2017-01-04', 0.03)\n",
      "('2017-01-05', 0.15833333333333333)\n",
      "('2017-01-06', 0.13333333333333333)\n",
      "('2017-01-07', 0.01)\n",
      "('2017-01-08', 0.01)\n",
      "('2017-01-09', 0.0)\n",
      "('2017-01-10', 0.0)\n",
      "('2017-01-11', 0.0)\n",
      "('2017-01-12', 0.0)\n",
      "('2017-01-13', 0.0)\n",
      "('2017-01-14', 0.002)\n",
      "('2017-01-15', 0.0025)\n",
      "('2017-01-16', 0.0)\n",
      "('2017-01-17', 0.0)\n",
      "('2017-01-18', 0.011666666666666667)\n",
      "('2017-01-19', 0.0033333333333333335)\n",
      "('2017-01-20', 0.0)\n",
      "('2017-01-21', 0.04666666666666666)\n",
      "('2017-01-22', 0.20400000000000001)\n",
      "('2017-01-23', 0.188)\n",
      "('2017-01-24', 0.45)\n",
      "('2017-01-25', 0.716)\n",
      "('2017-01-26', 0.015714285714285715)\n",
      "('2017-01-27', 0.008571428571428572)\n",
      "('2017-01-28', 0.028000000000000004)\n",
      "('2017-01-29', 0.2475)\n",
      "('2017-01-30', 0.008333333333333333)\n",
      "('2017-01-31', 0.0)\n",
      "('2017-02-01', 0.0)\n",
      "('2017-02-02', 0.0)\n",
      "('2017-02-03', 0.0)\n",
      "('2017-02-04', 0.0)\n",
      "('2017-02-05', 0.0)\n",
      "('2017-02-06', 0.06333333333333334)\n",
      "('2017-02-07', 1.0571428571428572)\n",
      "('2017-02-08', 0.1542857142857143)\n",
      "('2017-02-09', 0.002857142857142857)\n",
      "('2017-02-10', 0.0)\n",
      "('2017-02-11', 1.866666666666667)\n",
      "('2017-02-12', 1.7466666666666668)\n",
      "('2017-02-13', 0.4866666666666666)\n",
      "('2017-02-14', 0.0016666666666666668)\n",
      "('2017-02-15', 0.016)\n",
      "('2017-02-16', 0.36999999999999994)\n",
      "('2017-02-17', 0.17500000000000004)\n",
      "('2017-02-18', 0.0025)\n",
      "('2017-02-19', 0.0475)\n",
      "('2017-02-20', 0.0)\n",
      "('2017-02-21', 0.026000000000000002)\n",
      "('2017-02-22', 0.13000000000000003)\n",
      "('2017-02-23', 0.0014285714285714286)\n",
      "('2017-02-24', 0.0)\n",
      "('2017-02-25', 0.0375)\n",
      "('2017-02-26', 0.0)\n",
      "('2017-02-27', 0.0)\n",
      "('2017-02-28', 0.13666666666666666)\n",
      "('2017-03-01', 1.6600000000000001)\n",
      "('2017-03-02', 1.0933333333333333)\n",
      "('2017-03-03', 0.37166666666666665)\n",
      "('2017-03-04', 0.0)\n",
      "('2017-03-05', 0.3025)\n",
      "('2017-03-06', 0.135)\n",
      "('2017-03-07', 0.0)\n",
      "('2017-03-08', 0.0)\n",
      "('2017-03-09', 0.3266666666666667)\n",
      "('2017-03-10', 0.04142857142857143)\n",
      "('2017-03-11', 0.008)\n",
      "('2017-03-12', 0.0)\n",
      "('2017-03-13', 0.0)\n",
      "('2017-03-14', 0.008571428571428572)\n",
      "('2017-03-15', 0.01)\n",
      "('2017-03-16', 0.0)\n",
      "('2017-03-17', 0.144)\n",
      "('2017-03-18', 0.0)\n",
      "('2017-03-19', 0.0)\n",
      "('2017-03-20', 0.004)\n",
      "('2017-03-21', 0.015)\n",
      "('2017-03-22', 0.0)\n",
      "('2017-03-23', 0.008333333333333333)\n",
      "('2017-03-24', 0.18833333333333335)\n",
      "('2017-03-25', 0.394)\n",
      "('2017-03-26', 0.0)\n",
      "('2017-03-27', 0.002)\n",
      "('2017-03-28', 0.11833333333333335)\n",
      "('2017-03-29', 0.03166666666666667)\n",
      "('2017-03-30', 0.03)\n",
      "('2017-03-31', 0.0016666666666666668)\n",
      "('2017-04-01', 0.06833333333333334)\n",
      "('2017-04-02', 0.0)\n",
      "('2017-04-03', 0.11)\n",
      "('2017-04-04', 0.02142857142857143)\n",
      "('2017-04-05', 0.09428571428571429)\n",
      "('2017-04-06', 0.008571428571428572)\n",
      "('2017-04-07', 0.0)\n",
      "('2017-04-08', 0.0)\n",
      "('2017-04-09', 0.0)\n",
      "('2017-04-10', 0.0033333333333333335)\n",
      "('2017-04-11', 0.07833333333333332)\n",
      "('2017-04-12', 0.18000000000000002)\n",
      "('2017-04-13', 0.18166666666666667)\n",
      "('2017-04-14', 1.1199999999999999)\n",
      "('2017-04-15', 0.34800000000000003)\n",
      "('2017-04-16', 0.21400000000000002)\n",
      "('2017-04-17', 0.6140000000000001)\n",
      "('2017-04-18', 0.48)\n",
      "('2017-04-19', 0.03333333333333333)\n",
      "('2017-04-20', 0.13)\n",
      "('2017-04-21', 1.3966666666666667)\n",
      "('2017-04-22', 0.9920000000000002)\n",
      "('2017-04-23', 0.11499999999999999)\n",
      "('2017-04-24', 0.015000000000000001)\n",
      "('2017-04-25', 0.0)\n",
      "('2017-04-26', 0.065)\n",
      "('2017-04-27', 0.06999999999999999)\n",
      "('2017-04-28', 0.7066666666666667)\n",
      "('2017-04-29', 1.3399999999999999)\n",
      "('2017-04-30', 1.07)\n",
      "('2017-05-01', 0.135)\n",
      "('2017-05-02', 0.008333333333333333)\n",
      "('2017-05-03', 0.006)\n",
      "('2017-05-04', 0.016)\n",
      "('2017-05-05', 0.06333333333333334)\n",
      "('2017-05-06', 0.01)\n",
      "('2017-05-07', 0.024)\n",
      "('2017-05-08', 0.5016666666666666)\n",
      "('2017-05-09', 0.9260000000000002)\n",
      "('2017-05-10', 0.14333333333333334)\n",
      "('2017-05-11', 0.12)\n",
      "('2017-05-12', 0.032)\n",
      "('2017-05-13', 0.048)\n",
      "('2017-05-14', 0.244)\n",
      "('2017-05-15', 0.176)\n",
      "('2017-05-16', 0.06999999999999999)\n",
      "('2017-05-17', 0.025000000000000005)\n",
      "('2017-05-18', 0.14166666666666666)\n",
      "('2017-05-19', 0.01)\n",
      "('2017-05-20', 0.0075)\n",
      "('2017-05-21', 0.002)\n",
      "('2017-05-22', 0.072)\n",
      "('2017-05-23', 0.11833333333333333)\n",
      "('2017-05-24', 0.6483333333333333)\n",
      "('2017-05-25', 0.37000000000000005)\n",
      "('2017-05-26', 0.004)\n",
      "('2017-05-27', 0.085)\n",
      "('2017-05-28', 0.06833333333333334)\n",
      "('2017-05-29', 0.084)\n",
      "('2017-05-30', 0.346)\n",
      "('2017-05-31', 0.074)\n",
      "('2017-06-01', 0.006666666666666667)\n",
      "('2017-06-02', 0.06799999999999999)\n",
      "('2017-06-03', 0.122)\n",
      "('2017-06-04', 0.19166666666666665)\n",
      "('2017-06-05', 0.013333333333333334)\n",
      "('2017-06-06', 0.0)\n",
      "('2017-06-07', 0.0016666666666666668)\n",
      "('2017-06-08', 0.005)\n",
      "('2017-06-09', 0.008)\n",
      "('2017-06-10', 0.306)\n",
      "('2017-06-11', 0.35833333333333334)\n",
      "('2017-06-12', 0.2916666666666667)\n",
      "('2017-06-13', 0.22999999999999998)\n",
      "('2017-06-14', 0.26166666666666666)\n",
      "('2017-06-15', 0.45166666666666666)\n",
      "('2017-06-16', 0.03333333333333333)\n",
      "('2017-06-17', 0.09000000000000001)\n",
      "('2017-06-18', 0.23666666666666666)\n",
      "('2017-06-19', 0.12166666666666666)\n",
      "('2017-06-20', 0.11000000000000001)\n",
      "('2017-06-21', 0.1275)\n",
      "('2017-06-22', 0.07333333333333335)\n",
      "('2017-06-23', 0.11166666666666665)\n",
      "('2017-06-24', 0.128)\n",
      "('2017-06-25', 0.12)\n",
      "('2017-06-26', 0.02)\n",
      "('2017-06-27', 0.018333333333333333)\n",
      "('2017-06-28', 0.005)\n",
      "('2017-06-29', 0.011666666666666667)\n",
      "('2017-06-30', 0.07428571428571429)\n",
      "('2017-07-01', 0.065)\n",
      "('2017-07-02', 0.18)\n",
      "('2017-07-03', 0.148)\n",
      "('2017-07-04', 0.037500000000000006)\n",
      "('2017-07-05', 0.0)\n",
      "('2017-07-06', 0.004)\n",
      "('2017-07-07', 0.1)\n",
      "('2017-07-08', 0.016666666666666666)\n",
      "('2017-07-09', 0.03333333333333333)\n",
      "('2017-07-10', 0.006666666666666667)\n",
      "('2017-07-11', 0.005)\n",
      "('2017-07-12', 0.060000000000000005)\n",
      "('2017-07-13', 0.3016666666666667)\n",
      "('2017-07-14', 0.15833333333333335)\n",
      "('2017-07-15', 0.03166666666666667)\n",
      "('2017-07-16', 0.135)\n",
      "('2017-07-17', 0.15166666666666667)\n",
      "('2017-07-18', 0.3614285714285714)\n",
      "('2017-07-19', 0.06833333333333334)\n",
      "('2017-07-20', 0.17714285714285713)\n",
      "('2017-07-21', 0.018571428571428572)\n",
      "('2017-07-22', 0.7366666666666667)\n",
      "('2017-07-23', 0.22600000000000003)\n",
      "('2017-07-24', 0.6539999999999999)\n",
      "('2017-07-25', 0.08714285714285715)\n",
      "('2017-07-26', 0.08333333333333333)\n",
      "('2017-07-27', 0.0016666666666666668)\n",
      "('2017-07-28', 0.11)\n",
      "('2017-07-29', 0.10166666666666667)\n",
      "('2017-07-30', 0.06)\n",
      "('2017-07-31', 0.0)\n",
      "('2017-08-01', 0.04666666666666666)\n",
      "('2017-08-02', 0.075)\n",
      "('2017-08-03', 0.017499999999999998)\n",
      "('2017-08-04', 0.015)\n",
      "('2017-08-05', 0.03)\n",
      "('2017-08-06', 0.0)\n",
      "('2017-08-07', 0.0125)\n",
      "('2017-08-08', 0.11000000000000001)\n",
      "('2017-08-09', 0.049999999999999996)\n",
      "('2017-08-10', 0.0175)\n",
      "('2017-08-11', 0.0)\n",
      "('2017-08-12', 0.04666666666666667)\n",
      "('2017-08-13', 0.0)\n",
      "('2017-08-14', 0.062)\n",
      "('2017-08-15', 0.164)\n",
      "('2017-08-16', 0.1525)\n",
      "('2017-08-17', 0.0475)\n",
      "('2017-08-18', 0.02)\n",
      "('2017-08-19', 0.03)\n",
      "('2017-08-20', 0.005)\n",
      "('2017-08-21', 0.19333333333333336)\n",
      "('2017-08-22', 0.16666666666666666)\n",
      "('2017-08-23', 0.1325)\n"
     ]
    }
   ],
   "source": [
    "# Query 12 months of precipitation data - columns: date and pcrp, ordered by: date\n",
    "# Aggregate across multiple stations on the same date using average\n",
    "results = session.query(Measurement.date, func.avg(Measurement.prcp))\\\n",
    "                    .filter(Measurement.date >= m_date_start, Measurement.date <= m_date_end)\\\n",
    "                    .group_by(Measurement.date)\\\n",
    "                    .order_by(Measurement.date).all()\n",
    "for r in results:\n",
    "    print(r)"
   ]
  },
  {
   "cell_type": "code",
   "execution_count": 21,
   "metadata": {},
   "outputs": [
    {
     "data": {
      "text/html": [
       "<div>\n",
       "<style scoped>\n",
       "    .dataframe tbody tr th:only-of-type {\n",
       "        vertical-align: middle;\n",
       "    }\n",
       "\n",
       "    .dataframe tbody tr th {\n",
       "        vertical-align: top;\n",
       "    }\n",
       "\n",
       "    .dataframe thead th {\n",
       "        text-align: right;\n",
       "    }\n",
       "</style>\n",
       "<table border=\"1\" class=\"dataframe\">\n",
       "  <thead>\n",
       "    <tr style=\"text-align: right;\">\n",
       "      <th></th>\n",
       "      <th>Precipitation</th>\n",
       "    </tr>\n",
       "    <tr>\n",
       "      <th>Date</th>\n",
       "      <th></th>\n",
       "    </tr>\n",
       "  </thead>\n",
       "  <tbody>\n",
       "    <tr>\n",
       "      <th>2016-08-24</th>\n",
       "      <td>1.555000</td>\n",
       "    </tr>\n",
       "    <tr>\n",
       "      <th>2016-08-25</th>\n",
       "      <td>0.077143</td>\n",
       "    </tr>\n",
       "    <tr>\n",
       "      <th>2016-08-26</th>\n",
       "      <td>0.016667</td>\n",
       "    </tr>\n",
       "    <tr>\n",
       "      <th>2016-08-27</th>\n",
       "      <td>0.064000</td>\n",
       "    </tr>\n",
       "    <tr>\n",
       "      <th>2016-08-28</th>\n",
       "      <td>0.516667</td>\n",
       "    </tr>\n",
       "  </tbody>\n",
       "</table>\n",
       "</div>"
      ],
      "text/plain": [
       "            Precipitation\n",
       "Date                     \n",
       "2016-08-24       1.555000\n",
       "2016-08-25       0.077143\n",
       "2016-08-26       0.016667\n",
       "2016-08-27       0.064000\n",
       "2016-08-28       0.516667"
      ]
     },
     "execution_count": 21,
     "metadata": {},
     "output_type": "execute_result"
    }
   ],
   "source": [
    "# Load the query results into a DataFrame, set index to the date column, sort by date\n",
    "m_precip = pd.DataFrame(results, columns=['Date', 'Precipitation']).set_index(keys='Date').sort_values(by='Date')\n",
    "m_precip.head()"
   ]
  },
  {
   "cell_type": "code",
   "execution_count": 22,
   "metadata": {},
   "outputs": [],
   "source": [
    "# Create xtick marks and labels\n",
    "# @TODO: Find a more efficient way of plotting x-axis labels only every so often\n",
    "n_ticks = 12\n",
    "n_values = len(m_precip.index)\n",
    "n_interval = int(n_values / n_ticks)\n",
    "\n",
    "xtick_labels = []\n",
    "for i in range(n_values):\n",
    "    if i % n_interval == 0:\n",
    "        xtick_labels.append(m_precip.index[i])\n",
    "    else:\n",
    "        xtick_labels.append(\"\")\n",
    "\n",
    "#print(xtick_labels)"
   ]
  },
  {
   "cell_type": "code",
   "execution_count": 23,
   "metadata": {},
   "outputs": [
    {
     "data": {
      "image/png": "[encoded data removed]",
      "text/plain": [
       "<Figure size 1080x360 with 1 Axes>"
      ]
     },
     "metadata": {
      "needs_background": "light"
     },
     "output_type": "display_data"
    }
   ],
   "source": [
    "# Plot the results as a line graph\n",
    "ax = m_precip.plot(y='Precipitation', figsize=(15,5),         \n",
    "              title=\"Average Daily Precipitation in Hawaii\" + chr(10) + f\"(12-month period {m_date_start:%m-%d-%y} to {m_date_end:%m-%d-%y})\")\n",
    "ax.set_ylabel(\"Average Precipitation (inches)\")\n",
    "ax.set_xlabel(\"Date\")\n",
    "#ax.set_xticks(range(n_values))\n",
    "ax.set_xticks(range(len(m_precip.index)))\n",
    "ax.set_xticklabels(xtick_labels, rotation=90)\n",
    "\n",
    "plt.tight_layout()\n",
    "plt.show()"
   ]
  },
  {
   "cell_type": "code",
   "execution_count": 24,
   "metadata": {},
   "outputs": [
    {
     "data": {
      "text/html": [
       "<div>\n",
       "<style scoped>\n",
       "    .dataframe tbody tr th:only-of-type {\n",
       "        vertical-align: middle;\n",
       "    }\n",
       "\n",
       "    .dataframe tbody tr th {\n",
       "        vertical-align: top;\n",
       "    }\n",
       "\n",
       "    .dataframe thead th {\n",
       "        text-align: right;\n",
       "    }\n",
       "</style>\n",
       "<table border=\"1\" class=\"dataframe\">\n",
       "  <thead>\n",
       "    <tr style=\"text-align: right;\">\n",
       "      <th></th>\n",
       "      <th>Precipitation</th>\n",
       "    </tr>\n",
       "  </thead>\n",
       "  <tbody>\n",
       "    <tr>\n",
       "      <th>count</th>\n",
       "      <td>365.000000</td>\n",
       "    </tr>\n",
       "    <tr>\n",
       "      <th>mean</th>\n",
       "      <td>0.169987</td>\n",
       "    </tr>\n",
       "    <tr>\n",
       "      <th>std</th>\n",
       "      <td>0.295722</td>\n",
       "    </tr>\n",
       "    <tr>\n",
       "      <th>min</th>\n",
       "      <td>0.000000</td>\n",
       "    </tr>\n",
       "    <tr>\n",
       "      <th>25%</th>\n",
       "      <td>0.008571</td>\n",
       "    </tr>\n",
       "    <tr>\n",
       "      <th>50%</th>\n",
       "      <td>0.070000</td>\n",
       "    </tr>\n",
       "    <tr>\n",
       "      <th>75%</th>\n",
       "      <td>0.191667</td>\n",
       "    </tr>\n",
       "    <tr>\n",
       "      <th>max</th>\n",
       "      <td>2.380000</td>\n",
       "    </tr>\n",
       "  </tbody>\n",
       "</table>\n",
       "</div>"
      ],
      "text/plain": [
       "       Precipitation\n",
       "count     365.000000\n",
       "mean        0.169987\n",
       "std         0.295722\n",
       "min         0.000000\n",
       "25%         0.008571\n",
       "50%         0.070000\n",
       "75%         0.191667\n",
       "max         2.380000"
      ]
     },
     "execution_count": 24,
     "metadata": {},
     "output_type": "execute_result"
    }
   ],
   "source": [
    "m_precip.describe()"
   ]
  },
  {
   "cell_type": "markdown",
   "metadata": {},
   "source": [
    "## Station Analysis"
   ]
  },
  {
   "cell_type": "code",
   "execution_count": 25,
   "metadata": {},
   "outputs": [
    {
     "name": "stdout",
     "output_type": "stream",
     "text": [
      "9\n"
     ]
    }
   ],
   "source": [
    "# Query to calculate the total number of stations\n",
    "s_count = session.query(Station.station).group_by(Station.station).count()\n",
    "print(s_count)"
   ]
  },
  {
   "cell_type": "code",
   "execution_count": 26,
   "metadata": {},
   "outputs": [
    {
     "name": "stdout",
     "output_type": "stream",
     "text": [
      "('USC00519281', 2772)\n",
      "('USC00519397', 2724)\n",
      "('USC00513117', 2709)\n",
      "('USC00519523', 2669)\n",
      "('USC00516128', 2612)\n",
      "('USC00514830', 2202)\n",
      "('USC00511918', 1979)\n",
      "('USC00517948', 1372)\n",
      "('USC00518838', 511)\n"
     ]
    }
   ],
   "source": [
    "# Find the most active stations (i.e., highest number of observations)\n",
    "s_actives = session.query(Measurement.station, func.count(Measurement.id))\\\n",
    "                        .group_by(Measurement.station)\\\n",
    "                        .order_by(func.count(Measurement.id).desc())\n",
    "for s in s_actives:\n",
    "    print(s)"
   ]
  },
  {
   "cell_type": "code",
   "execution_count": 27,
   "metadata": {},
   "outputs": [
    {
     "name": "stdout",
     "output_type": "stream",
     "text": [
      "USC00519281\n"
     ]
    }
   ],
   "source": [
    "# Find the one station with the highest number of observations\n",
    "s_mostactive = session.query(Measurement.station)\\\n",
    "                        .group_by(Measurement.station)\\\n",
    "                        .order_by(func.count(Measurement.id).desc())\\\n",
    "                        .limit(1)\n",
    "#for s in s_mostactive:\n",
    "s_mostactive = s_mostactive[0][0]\n",
    "print(s_mostactive)"
   ]
  },
  {
   "cell_type": "code",
   "execution_count": 28,
   "metadata": {},
   "outputs": [
    {
     "name": "stdout",
     "output_type": "stream",
     "text": [
      "Temperature Statistics at the Most Active Weather Station in Hawaii: USC00519281\n",
      "Max. Temp: 85.0 deg F\n",
      "Avg. Temp: 71.7 deg F\n",
      "Min. Temp: 54.0 deg F\n"
     ]
    }
   ],
   "source": [
    "# NOTE: The data requested in this cell was not in the Homework Instructions, but it's here, so...\n",
    "# Using the station id from the previous query, calculate the lowest temperature recorded, \n",
    "# highest temperature recorded, and average temperature most active station?\n",
    "results = session.query(func.min(Measurement.tobs),\\\n",
    "                        func.avg(Measurement.tobs), func.max(Measurement.tobs))\\\n",
    "                        .filter(Measurement.station == s_mostactive)\n",
    "\n",
    "print(f\"Temperature Statistics at the Most Active Weather Station in Hawaii: {s_mostactive}\" )\n",
    "\n",
    "plot_actstation_temps = f\"Max. Temp: {results[0][2]:.1f} deg F\" + chr(10) \\\n",
    "                    + f\"Avg. Temp: {results[0][1]:.1f} deg F\" + chr(10) \\\n",
    "                    + f\"Min. Temp: {results[0][0]:.1f} deg F\"\n",
    "print(plot_actstation_temps)\n"
   ]
  },
  {
   "cell_type": "code",
   "execution_count": 29,
   "metadata": {},
   "outputs": [
    {
     "name": "stdout",
     "output_type": "stream",
     "text": [
      "('2016-08-24', 77.0)\n",
      "('2016-08-25', 80.0)\n",
      "('2016-08-26', 80.0)\n",
      "('2016-08-27', 75.0)\n",
      "('2016-08-28', 73.0)\n",
      "('2016-08-29', 78.0)\n",
      "('2016-08-30', 77.0)\n",
      "('2016-08-31', 78.0)\n",
      "('2016-09-01', 80.0)\n",
      "('2016-09-02', 80.0)\n",
      "('2016-09-03', 78.0)\n",
      "('2016-09-04', 78.0)\n",
      "('2016-09-05', 78.0)\n",
      "('2016-09-06', 73.0)\n",
      "('2016-09-07', 74.0)\n",
      "('2016-09-08', 80.0)\n",
      "('2016-09-09', 79.0)\n",
      "('2016-09-10', 77.0)\n",
      "('2016-09-11', 80.0)\n",
      "('2016-09-12', 76.0)\n",
      "('2016-09-13', 79.0)\n",
      "('2016-09-14', 75.0)\n",
      "('2016-09-15', 79.0)\n",
      "('2016-09-16', 78.0)\n",
      "('2016-09-17', 79.0)\n",
      "('2016-09-18', 78.0)\n",
      "('2016-09-19', 78.0)\n",
      "('2016-09-20', 76.0)\n",
      "('2016-09-21', 74.0)\n",
      "('2016-09-22', 77.0)\n",
      "('2016-09-23', 78.0)\n",
      "('2016-09-24', 79.0)\n",
      "('2016-09-25', 79.0)\n",
      "('2016-09-26', 77.0)\n",
      "('2016-09-27', 80.0)\n",
      "('2016-09-28', 78.0)\n",
      "('2016-09-29', 78.0)\n",
      "('2016-09-30', 78.0)\n",
      "('2016-10-01', 77.0)\n",
      "('2016-10-02', 79.0)\n",
      "('2016-10-03', 79.0)\n",
      "('2016-10-04', 79.0)\n",
      "('2016-10-05', 79.0)\n",
      "('2016-10-06', 75.0)\n",
      "('2016-10-07', 76.0)\n",
      "('2016-10-08', 73.0)\n",
      "('2016-10-09', 72.0)\n",
      "('2016-10-10', 71.0)\n",
      "('2016-10-11', 77.0)\n",
      "('2016-10-12', 79.0)\n",
      "('2016-10-13', 78.0)\n",
      "('2016-10-14', 79.0)\n",
      "('2016-10-15', 77.0)\n",
      "('2016-10-16', 79.0)\n",
      "('2016-10-17', 77.0)\n",
      "('2016-10-18', 78.0)\n",
      "('2016-10-19', 78.0)\n",
      "('2016-10-20', 78.0)\n",
      "('2016-10-21', 78.0)\n",
      "('2016-10-22', 77.0)\n",
      "('2016-10-23', 74.0)\n",
      "('2016-10-24', 75.0)\n",
      "('2016-10-25', 76.0)\n",
      "('2016-10-26', 73.0)\n",
      "('2016-10-27', 76.0)\n",
      "('2016-10-28', 74.0)\n",
      "('2016-10-29', 77.0)\n",
      "('2016-10-30', 76.0)\n",
      "('2016-10-31', 76.0)\n",
      "('2016-11-01', 74.0)\n",
      "('2016-11-02', 75.0)\n",
      "('2016-11-03', 75.0)\n",
      "('2016-11-04', 75.0)\n",
      "('2016-11-05', 75.0)\n",
      "('2016-11-06', 71.0)\n",
      "('2016-11-07', 63.0)\n",
      "('2016-11-08', 70.0)\n",
      "('2016-11-09', 68.0)\n",
      "('2016-11-10', 67.0)\n",
      "('2016-11-11', 77.0)\n",
      "('2016-11-12', 74.0)\n",
      "('2016-11-13', 77.0)\n",
      "('2016-11-14', 76.0)\n",
      "('2016-11-15', 76.0)\n",
      "('2016-11-16', 75.0)\n",
      "('2016-11-17', 76.0)\n",
      "('2016-11-18', 75.0)\n",
      "('2016-11-19', 73.0)\n",
      "('2016-11-20', 75.0)\n",
      "('2016-11-21', 73.0)\n",
      "('2016-11-22', 75.0)\n",
      "('2016-11-23', 74.0)\n",
      "('2016-11-24', 75.0)\n",
      "('2016-11-25', 74.0)\n",
      "('2016-11-26', 75.0)\n",
      "('2016-11-27', 73.0)\n",
      "('2016-11-28', 75.0)\n",
      "('2016-11-29', 73.0)\n",
      "('2016-11-30', 73.0)\n",
      "('2016-12-01', 74.0)\n",
      "('2016-12-02', 70.0)\n",
      "('2016-12-03', 72.0)\n",
      "('2016-12-04', 70.0)\n",
      "('2016-12-05', 67.0)\n",
      "('2016-12-06', 67.0)\n",
      "('2016-12-07', 69.0)\n",
      "('2016-12-08', 70.0)\n",
      "('2016-12-09', 68.0)\n",
      "('2016-12-10', 69.0)\n",
      "('2016-12-11', 69.0)\n",
      "('2016-12-12', 66.0)\n",
      "('2016-12-13', 65.0)\n",
      "('2016-12-14', 68.0)\n",
      "('2016-12-15', 62.0)\n",
      "('2016-12-16', 75.0)\n",
      "('2016-12-17', 70.0)\n",
      "('2016-12-18', 69.0)\n",
      "('2016-12-19', 76.0)\n",
      "('2016-12-20', 76.0)\n",
      "('2016-12-21', 74.0)\n",
      "('2016-12-22', 73.0)\n",
      "('2016-12-23', 71.0)\n",
      "('2016-12-24', 74.0)\n",
      "('2016-12-25', 74.0)\n",
      "('2016-12-26', 72.0)\n",
      "('2016-12-27', 71.0)\n",
      "('2016-12-28', 72.0)\n",
      "('2016-12-29', 74.0)\n",
      "('2016-12-30', 69.0)\n",
      "('2016-12-31', 67.0)\n",
      "('2017-01-01', 72.0)\n",
      "('2017-01-02', 70.0)\n",
      "('2017-01-03', 64.0)\n",
      "('2017-01-04', 63.0)\n",
      "('2017-01-05', 63.0)\n",
      "('2017-01-06', 62.0)\n",
      "('2017-01-07', 70.0)\n",
      "('2017-01-08', 70.0)\n",
      "('2017-01-09', 62.0)\n",
      "('2017-01-10', 62.0)\n",
      "('2017-01-11', 63.0)\n",
      "('2017-01-12', 65.0)\n",
      "('2017-01-13', 69.0)\n",
      "('2017-01-14', 77.0)\n",
      "('2017-01-15', 70.0)\n",
      "('2017-01-16', 74.0)\n",
      "('2017-01-17', 69.0)\n",
      "('2017-01-18', 72.0)\n",
      "('2017-01-19', 71.0)\n",
      "('2017-01-20', 69.0)\n",
      "('2017-01-21', 71.0)\n",
      "('2017-01-22', 71.0)\n",
      "('2017-01-23', 72.0)\n",
      "('2017-01-24', 72.0)\n",
      "('2017-01-25', 69.0)\n",
      "('2017-01-26', 70.0)\n",
      "('2017-01-27', 66.0)\n",
      "('2017-01-28', 65.0)\n",
      "('2017-01-29', 69.0)\n",
      "('2017-01-30', 68.0)\n",
      "('2017-01-31', 68.0)\n",
      "('2017-02-01', 68.0)\n",
      "('2017-02-02', 59.0)\n",
      "('2017-02-03', 60.0)\n",
      "('2017-02-04', 70.0)\n",
      "('2017-02-05', 73.0)\n",
      "('2017-02-06', 75.0)\n",
      "('2017-02-07', 64.0)\n",
      "('2017-02-08', 59.0)\n",
      "('2017-02-09', 59.0)\n",
      "('2017-02-10', 62.0)\n",
      "('2017-02-11', 68.0)\n",
      "('2017-02-12', 70.0)\n",
      "('2017-02-13', 73.0)\n",
      "('2017-02-14', 79.0)\n",
      "('2017-02-15', 75.0)\n",
      "('2017-02-16', 65.0)\n",
      "('2017-02-17', 70.0)\n",
      "('2017-02-18', 74.0)\n",
      "('2017-02-19', 70.0)\n",
      "('2017-02-20', 70.0)\n",
      "('2017-02-21', 71.0)\n",
      "('2017-02-22', 71.0)\n",
      "('2017-02-23', 71.0)\n",
      "('2017-02-24', 69.0)\n",
      "('2017-02-25', 61.0)\n",
      "('2017-02-26', 67.0)\n",
      "('2017-02-27', 65.0)\n",
      "('2017-02-28', 72.0)\n",
      "('2017-03-01', 71.0)\n",
      "('2017-03-02', 73.0)\n",
      "('2017-03-03', 72.0)\n",
      "('2017-03-04', 77.0)\n",
      "('2017-03-05', 73.0)\n",
      "('2017-03-06', 67.0)\n",
      "('2017-03-07', 62.0)\n",
      "('2017-03-08', 64.0)\n",
      "('2017-03-09', 67.0)\n",
      "('2017-03-10', 66.0)\n",
      "('2017-03-11', 81.0)\n",
      "('2017-03-12', 69.0)\n",
      "('2017-03-13', 66.0)\n",
      "('2017-03-14', 67.0)\n",
      "('2017-03-15', 69.0)\n",
      "('2017-03-16', 66.0)\n",
      "('2017-03-17', 68.0)\n",
      "('2017-03-18', 65.0)\n",
      "('2017-03-19', 74.0)\n",
      "('2017-03-20', 69.0)\n",
      "('2017-03-21', 72.0)\n",
      "('2017-03-22', 73.0)\n",
      "('2017-03-23', 72.0)\n",
      "('2017-03-24', 71.0)\n",
      "('2017-03-25', 76.0)\n",
      "('2017-03-26', 77.0)\n",
      "('2017-03-27', 76.0)\n",
      "('2017-03-28', 74.0)\n",
      "('2017-03-29', 68.0)\n",
      "('2017-03-30', 73.0)\n",
      "('2017-03-31', 71.0)\n",
      "('2017-04-01', 74.0)\n",
      "('2017-04-02', 75.0)\n",
      "('2017-04-03', 70.0)\n",
      "('2017-04-04', 67.0)\n",
      "('2017-04-05', 71.0)\n",
      "('2017-04-06', 67.0)\n",
      "('2017-04-07', 74.0)\n",
      "('2017-04-08', 77.0)\n",
      "('2017-04-09', 78.0)\n",
      "('2017-04-10', 67.0)\n",
      "('2017-04-11', 70.0)\n",
      "('2017-04-12', 69.0)\n",
      "('2017-04-13', 69.0)\n",
      "('2017-04-14', 74.0)\n",
      "('2017-04-15', 78.0)\n",
      "('2017-04-16', 71.0)\n",
      "('2017-04-17', 67.0)\n",
      "('2017-04-18', 68.0)\n",
      "('2017-04-19', 67.0)\n",
      "('2017-04-20', 76.0)\n",
      "('2017-04-21', 69.0)\n",
      "('2017-04-22', 72.0)\n",
      "('2017-04-23', 76.0)\n",
      "('2017-04-24', 68.0)\n",
      "('2017-04-25', 72.0)\n",
      "('2017-04-26', 74.0)\n",
      "('2017-04-27', 70.0)\n",
      "('2017-04-28', 67.0)\n",
      "('2017-04-29', 72.0)\n",
      "('2017-04-30', 60.0)\n",
      "('2017-05-01', 65.0)\n",
      "('2017-05-02', 75.0)\n",
      "('2017-05-03', 70.0)\n",
      "('2017-05-04', 75.0)\n",
      "('2017-05-05', 70.0)\n",
      "('2017-05-06', 79.0)\n",
      "('2017-05-07', 75.0)\n",
      "('2017-05-08', 70.0)\n",
      "('2017-05-09', 67.0)\n",
      "('2017-05-10', 74.0)\n",
      "('2017-05-11', 70.0)\n",
      "('2017-05-12', 75.0)\n",
      "('2017-05-13', 76.0)\n",
      "('2017-05-14', 77.0)\n",
      "('2017-05-15', 74.0)\n",
      "('2017-05-16', 74.0)\n",
      "('2017-05-17', 74.0)\n",
      "('2017-05-18', 69.0)\n",
      "('2017-05-19', 68.0)\n",
      "('2017-05-20', 76.0)\n",
      "('2017-05-21', 74.0)\n",
      "('2017-05-22', 71.0)\n",
      "('2017-05-23', 71.0)\n",
      "('2017-05-24', 74.0)\n",
      "('2017-05-25', 74.0)\n",
      "('2017-05-26', 74.0)\n",
      "('2017-05-27', 74.0)\n",
      "('2017-05-28', 80.0)\n",
      "('2017-05-29', 74.0)\n",
      "('2017-05-30', 72.0)\n",
      "('2017-05-31', 75.0)\n",
      "('2017-06-01', 80.0)\n",
      "('2017-06-02', 76.0)\n",
      "('2017-06-03', 76.0)\n",
      "('2017-06-04', 77.0)\n",
      "('2017-06-05', 75.0)\n",
      "('2017-06-06', 75.0)\n",
      "('2017-06-07', 75.0)\n",
      "('2017-06-08', 75.0)\n",
      "('2017-06-09', 72.0)\n",
      "('2017-06-10', 74.0)\n",
      "('2017-06-11', 74.0)\n",
      "('2017-06-12', 74.0)\n",
      "('2017-06-13', 76.0)\n",
      "('2017-06-14', 74.0)\n",
      "('2017-06-15', 75.0)\n",
      "('2017-06-16', 73.0)\n",
      "('2017-06-17', 79.0)\n",
      "('2017-06-18', 75.0)\n",
      "('2017-06-19', 72.0)\n",
      "('2017-06-20', 72.0)\n",
      "('2017-06-21', 74.0)\n",
      "('2017-06-22', 72.0)\n",
      "('2017-06-23', 72.0)\n",
      "('2017-06-24', 77.0)\n",
      "('2017-06-25', 71.0)\n",
      "('2017-06-26', 73.0)\n",
      "('2017-06-27', 76.0)\n",
      "('2017-06-28', 77.0)\n",
      "('2017-06-29', 76.0)\n",
      "('2017-06-30', 76.0)\n",
      "('2017-07-01', 79.0)\n",
      "('2017-07-02', 81.0)\n",
      "('2017-07-03', 76.0)\n",
      "('2017-07-04', 78.0)\n",
      "('2017-07-05', 77.0)\n",
      "('2017-07-06', 74.0)\n",
      "('2017-07-07', 75.0)\n",
      "('2017-07-08', 78.0)\n",
      "('2017-07-09', 78.0)\n",
      "('2017-07-10', 69.0)\n",
      "('2017-07-11', 72.0)\n",
      "('2017-07-12', 74.0)\n",
      "('2017-07-13', 74.0)\n",
      "('2017-07-14', 76.0)\n",
      "('2017-07-15', 80.0)\n",
      "('2017-07-16', 80.0)\n",
      "('2017-07-17', 76.0)\n",
      "('2017-07-18', 76.0)\n",
      "('2017-07-19', 76.0)\n",
      "('2017-07-20', 77.0)\n",
      "('2017-07-21', 77.0)\n",
      "('2017-07-22', 77.0)\n",
      "('2017-07-23', 82.0)\n",
      "('2017-07-24', 75.0)\n",
      "('2017-07-25', 77.0)\n",
      "('2017-07-26', 75.0)\n",
      "('2017-07-27', 76.0)\n",
      "('2017-07-28', 81.0)\n",
      "('2017-07-29', 82.0)\n",
      "('2017-07-30', 81.0)\n",
      "('2017-07-31', 76.0)\n",
      "('2017-08-04', 77.0)\n",
      "('2017-08-05', 82.0)\n",
      "('2017-08-06', 83.0)\n",
      "('2017-08-13', 77.0)\n",
      "('2017-08-14', 77.0)\n",
      "('2017-08-15', 77.0)\n",
      "('2017-08-16', 76.0)\n",
      "('2017-08-17', 76.0)\n",
      "('2017-08-18', 79.0)\n"
     ]
    }
   ],
   "source": [
    "# Query 12 months of temperature data at the most active station\n",
    "# - columns: date and tobs, ordered by: date\n",
    "# Aggregate across multiple stations on the same date using average\n",
    "results = session.query(Measurement.date, func.avg(Measurement.tobs))\\\n",
    "                    .filter(Measurement.date >= m_date_start, Measurement.date <= m_date_end)\\\n",
    "                    .filter(Measurement.station == s_mostactive)\\\n",
    "                    .group_by(Measurement.date)\\\n",
    "                    .order_by(Measurement.date).all()\n",
    "for r in results:\n",
    "    print(r)"
   ]
  },
  {
   "cell_type": "code",
   "execution_count": 30,
   "metadata": {},
   "outputs": [
    {
     "data": {
      "text/html": [
       "<div>\n",
       "<style scoped>\n",
       "    .dataframe tbody tr th:only-of-type {\n",
       "        vertical-align: middle;\n",
       "    }\n",
       "\n",
       "    .dataframe tbody tr th {\n",
       "        vertical-align: top;\n",
       "    }\n",
       "\n",
       "    .dataframe thead th {\n",
       "        text-align: right;\n",
       "    }\n",
       "</style>\n",
       "<table border=\"1\" class=\"dataframe\">\n",
       "  <thead>\n",
       "    <tr style=\"text-align: right;\">\n",
       "      <th></th>\n",
       "      <th>Temperature</th>\n",
       "    </tr>\n",
       "    <tr>\n",
       "      <th>Date</th>\n",
       "      <th></th>\n",
       "    </tr>\n",
       "  </thead>\n",
       "  <tbody>\n",
       "    <tr>\n",
       "      <th>2016-08-24</th>\n",
       "      <td>77.0</td>\n",
       "    </tr>\n",
       "    <tr>\n",
       "      <th>2016-08-25</th>\n",
       "      <td>80.0</td>\n",
       "    </tr>\n",
       "    <tr>\n",
       "      <th>2016-08-26</th>\n",
       "      <td>80.0</td>\n",
       "    </tr>\n",
       "    <tr>\n",
       "      <th>2016-08-27</th>\n",
       "      <td>75.0</td>\n",
       "    </tr>\n",
       "    <tr>\n",
       "      <th>2016-08-28</th>\n",
       "      <td>73.0</td>\n",
       "    </tr>\n",
       "  </tbody>\n",
       "</table>\n",
       "</div>"
      ],
      "text/plain": [
       "            Temperature\n",
       "Date                   \n",
       "2016-08-24         77.0\n",
       "2016-08-25         80.0\n",
       "2016-08-26         80.0\n",
       "2016-08-27         75.0\n",
       "2016-08-28         73.0"
      ]
     },
     "execution_count": 30,
     "metadata": {},
     "output_type": "execute_result"
    }
   ],
   "source": [
    "# Load the query results into a DataFrame, set index to the date column, sort by date\n",
    "m_temp = pd.DataFrame(results, columns=['Date', 'Temperature']).set_index(keys='Date').sort_values(by='Date')\n",
    "m_temp.head()"
   ]
  },
  {
   "cell_type": "code",
   "execution_count": 31,
   "metadata": {},
   "outputs": [
    {
     "data": {
      "image/png": "[encoded data removed]",
      "text/plain": [
       "<Figure size 720x360 with 1 Axes>"
      ]
     },
     "metadata": {
      "needs_background": "light"
     },
     "output_type": "display_data"
    }
   ],
   "source": [
    "# Plot the results as a histogram with bins=12\n",
    "ax = m_temp.plot.hist(by='Temperature', bins=12, figsize=(10,5), edgecolor='darkblue',\n",
    "              title=\"Average Daily Temperature in Hawaii\" + chr(10) + f\"(Most Active Station: {s_mostactive}, 12-month period {m_date_start:%m-%d-%y} to {m_date_end:%m-%d-%y})\")\n",
    "ax.set_ylabel(\"Number of Observerations\")\n",
    "ax.set_xlabel(\"Range of Average Temperature (deg F)\")\n",
    "plt.tight_layout()\n",
    "plt.show()"
   ]
  },
  {
   "cell_type": "markdown",
   "metadata": {},
   "source": [
    "# <span style=\"color:blue\">Optional: Additional Climate Analysis</span>"
   ]
  },
  {
   "cell_type": "markdown",
   "metadata": {},
   "source": [
    "## Optional: Temperature Analysis"
   ]
  },
  {
   "cell_type": "code",
   "execution_count": 32,
   "metadata": {},
   "outputs": [],
   "source": [
    "# This function called `calc_temps` will accept start date and end date in the format '%Y-%m-%d' \n",
    "# and return the minimum, average, and maximum temperatures for that range of dates\n",
    "def calc_temps(start_date, end_date):\n",
    "    \"\"\"TMIN, TAVG, and TMAX for a list of dates.\n",
    "    \n",
    "    Args:\n",
    "        start_date (string): A date string in the format %Y-%m-%d\n",
    "        end_date (string): A date string in the format %Y-%m-%d\n",
    "        \n",
    "    Returns:\n",
    "        TMIN, TAVE, and TMAX\n",
    "    \"\"\"\n",
    "    \n",
    "    return session.query(func.min(Measurement.tobs), func.avg(Measurement.tobs), func.max(Measurement.tobs)).\\\n",
    "        filter(Measurement.date >= start_date).filter(Measurement.date <= end_date).all()\n",
    "\n",
    "# function usage example\n",
    "# print(calc_temps('2012-02-28', '2012-03-05'))"
   ]
  },
  {
   "cell_type": "code",
   "execution_count": 33,
   "metadata": {},
   "outputs": [
    {
     "name": "stdout",
     "output_type": "stream",
     "text": [
      "Trip to Hawaii is planned for Monday 07-01-19 through Sunday 07-14-19\n"
     ]
    }
   ],
   "source": [
    "# Based upon Precipitation data, select Trip:\n",
    "# 2-week interval: 2019-07-01 through 2019-07-14\n",
    "date_trip_start = dt.date(2019, 7,1)\n",
    "date_trip_end = dt.date(2019,7,14)\n",
    "print(f\"Trip to Hawaii is planned for {date_trip_start:%A %m-%d-%y} through {date_trip_end:%A %m-%d-%y}\")"
   ]
  },
  {
   "cell_type": "code",
   "execution_count": 34,
   "metadata": {},
   "outputs": [
    {
     "name": "stdout",
     "output_type": "stream",
     "text": [
      "Data will be analyzed from the period: 07-01-17 through 07-14-17\n"
     ]
    }
   ],
   "source": [
    "# Use the calc_temps function to calculate temperature statistics for the same timeframe during a prior year\n",
    "# NOTE: There are no observations in 2018 during the target trip timeframe, so use 2017 data\n",
    "p_date_start = date_trip_start - dt.timedelta(days=(365*2))\n",
    "p_date_end = date_trip_end - dt.timedelta(days=(365*2))\n",
    "print(f\"Data will be analyzed from the period: {p_date_start:%m-%d-%y} through {p_date_end:%m-%d-%y}\")"
   ]
  },
  {
   "cell_type": "code",
   "execution_count": 35,
   "metadata": {},
   "outputs": [
    {
     "name": "stdout",
     "output_type": "stream",
     "text": [
      "Max. Temp: 87.0 deg F\n",
      "Avg. Temp: 78.1 deg F\n",
      "Min. Temp: 69.0 deg F\n"
     ]
    }
   ],
   "source": [
    "# (p_temp_min, p_temp_avg, p_temp_max) = calc_temps(p_date_start, p_date_end)\n",
    "results = calc_temps(p_date_start, p_date_end)\n",
    "p_temp_min, p_temp_avg, p_temp_max = results[0]\n",
    "plot_label_text = f\"Max. Temp: {p_temp_max:.1f} deg F\" + chr(10) \\\n",
    "                    + f\"Avg. Temp: {p_temp_avg:.1f} deg F\" + chr(10) \\\n",
    "                    + f\"Min. Temp: {p_temp_min:.1f} deg F\"\n",
    "print(plot_label_text)\n"
   ]
  },
  {
   "cell_type": "code",
   "execution_count": 36,
   "metadata": {},
   "outputs": [
    {
     "data": {
      "image/png": "[encoded data removed]",
      "text/plain": [
       "<Figure size 360x360 with 1 Axes>"
      ]
     },
     "metadata": {
      "needs_background": "light"
     },
     "output_type": "display_data"
    }
   ],
   "source": [
    "# Plot this temperature data as a bar chart with error bars based upon max and min temps\n",
    "ax = plt.figure(figsize=(5,5))\n",
    "\n",
    "plt.bar(x=[ plot_label_text ],\n",
    "             height=[ p_temp_avg ],\n",
    "             yerr=[ (p_temp_max-p_temp_avg, p_temp_avg-p_temp_min) ], color='pink', alpha=0.8)\n",
    "plt.title(\"Projected Trip Average Temperature in Hawaii\" + chr(10)\n",
    "          + f\"During Planned Trip period {date_trip_start:%m-%d-%y} to {date_trip_end:%m-%d-%y}\" + chr(10)\n",
    "          + f\"(Based upon sample period {p_date_start:%m-%d-%y} to {p_date_end:%m-%d-%y})\")\n",
    "plt.ylabel(\"Average Temperature (deg F)\")\n",
    "plt.xlim(-.8,.8)\n",
    "plt.ylim(0, p_temp_max * 1.2)\n",
    "plt.grid(b=False, which='both', axis='x')\n",
    "plt.tight_layout()\n",
    "plt.show()"
   ]
  },
  {
   "cell_type": "markdown",
   "metadata": {},
   "source": [
    "## Optional: Rainfall Analysis"
   ]
  },
  {
   "cell_type": "code",
   "execution_count": 37,
   "metadata": {},
   "outputs": [
    {
     "name": "stdout",
     "output_type": "stream",
     "text": [
      "Trip to Hawaii is planned for Monday 07-01-19 through Sunday 07-14-19\n",
      "Data will be analyzed from the period: 07-01-17 through 07-14-17\n"
     ]
    }
   ],
   "source": [
    "# Calculate the rainfall per weather station using the same planned trip timeframe during a prior year\n",
    "# NOTE: There are no observations in 2018 during the target trip timeframe, so use 2017 data\n",
    "print(f\"Trip to Hawaii is planned for {date_trip_start:%A %m-%d-%y} through {date_trip_end:%A %m-%d-%y}\")\n",
    "print(f\"Data will be analyzed from the period: {p_date_start:%m-%d-%y} through {p_date_end:%m-%d-%y}\")"
   ]
  },
  {
   "cell_type": "code",
   "execution_count": 38,
   "metadata": {},
   "outputs": [
    {
     "name": "stdout",
     "output_type": "stream",
     "text": [
      "Projected Average Precipitation per Weather Station in Hawaii\n",
      "During Planned Trip period 07-01-19 to 07-14-19\n",
      "(Based upon sample period 07-01-17 to 07-14-17)\n",
      "\n",
      "Station, Name, Latitude, Longitude, Elevation, Average Precipitation\n",
      "\n",
      "('USC00516128', 'MANOA LYON ARBO 785.2, HI US', 21.3331, -157.8025, 152.4, 0.1978571428571429)\n",
      "('USC00519281', 'WAIHEE 837.5, HI US', 21.45167, -157.84888999999998, 32.9, 0.11357142857142857)\n",
      "('USC00513117', 'KANEOHE 838.1, HI US', 21.4234, -157.8015, 14.6, 0.05714285714285715)\n",
      "('USC00514830', 'KUALOA RANCH HEADQUARTERS 886.9, HI US', 21.5213, -157.8374, 7.0, 0.054285714285714284)\n",
      "('USC00519397', 'WAIKIKI 717.2, HI US', 21.2716, -157.8168, 3.0, 0.015)\n",
      "('USC00519523', 'WAIMANALO EXPERIMENTAL FARM, HI US', 21.33556, -157.71139, 19.5, 0.013000000000000001)\n",
      "('USC00517948', 'PEARL CITY, HI US', 21.3934, -157.9751, 11.9, None)\n"
     ]
    }
   ],
   "source": [
    "# Query for rainfall per weather station during sample timeframe\n",
    "# NOTE: Content expanded from the instructions...\n",
    "# Calculate the rainfall per weather station for your trip dates using the previous year's matching dates.\n",
    "# Sort this in descending order by precipitation amount\n",
    "#  and list the station, name, latitude, longitude, and elevation\n",
    "\n",
    "results = session.query(Measurement.station, Station.name,\\\n",
    "                        Station.latitude, Station.longitude,\\\n",
    "                        Station.elevation, func.avg(Measurement.prcp))\\\n",
    "                    .filter(Measurement.station == Station.station)\\\n",
    "                    .filter(Measurement.date >= p_date_start, Measurement.date <= p_date_end)\\\n",
    "                    .group_by(Measurement.station)\\\n",
    "                    .order_by(func.avg(Measurement.prcp).desc()).all()\n",
    "\n",
    "print(f\"Projected Average Precipitation per Weather Station in Hawaii\" + chr(10)\n",
    "          + f\"During Planned Trip period {date_trip_start:%m-%d-%y} to {date_trip_end:%m-%d-%y}\" + chr(10)\n",
    "          + f\"(Based upon sample period {p_date_start:%m-%d-%y} to {p_date_end:%m-%d-%y})\" + chr(10) )\n",
    "\n",
    "print(\"Station, Name, Latitude, Longitude, Elevation, Average Precipitation\" + chr(10))\n",
    "\n",
    "# Watch for the case where precipitation is reported as \"None\"\n",
    "for r in results:\n",
    "    print(r)\n",
    "#    try:\n",
    "#        print(f\"Station: {r[0]}, Avg. Precipitation: {r[1]:.3f}\")\n",
    "#    except TypeError:\n",
    "#        print(f\"Station: {r[0]}, Avg. Precipitation: {0:.3f}\")\n",
    "        "
   ]
  },
  {
   "cell_type": "markdown",
   "metadata": {},
   "source": [
    "## Optional: Daily Normals (Temperature) Analysis"
   ]
  },
  {
   "cell_type": "code",
   "execution_count": 39,
   "metadata": {},
   "outputs": [
    {
     "name": "stdout",
     "output_type": "stream",
     "text": [
      "Trip to Hawaii is planned for Monday 07-01-19 through Sunday 07-14-19\n",
      "Data from all years will be analyzed for the period: 07-01 through 07-14\n"
     ]
    }
   ],
   "source": [
    "# Calculate the daily normals for your trip\n",
    "print(f\"Trip to Hawaii is planned for {date_trip_start:%A %m-%d-%y} through {date_trip_end:%A %m-%d-%y}\")\n",
    "print(f\"Data from all years will be analyzed for the period: {date_trip_start:%m-%d} through {date_trip_end:%m-%d}\")"
   ]
  },
  {
   "cell_type": "code",
   "execution_count": 40,
   "metadata": {},
   "outputs": [],
   "source": [
    "# Create a query that will calculate the daily normals \n",
    "# (i.e. the averages for tmin, tmax, and tavg for all historic data matching a specific month and day)\n",
    "\n",
    "def daily_normals(date):\n",
    "    \"\"\"Daily Normals.\n",
    "    \n",
    "    Args:\n",
    "        date (str): A date string in the format '%m-%d'\n",
    "        \n",
    "    Returns:\n",
    "        A list of tuples containing the daily normals, tmin, tavg, and tmax\n",
    "    \n",
    "    \"\"\"\n",
    "    \n",
    "    sel = [func.min(Measurement.tobs), func.avg(Measurement.tobs), func.max(Measurement.tobs)]\n",
    "    return session.query(*sel).filter(func.strftime(\"%m-%d\", Measurement.date) == date).all()\n",
    "    \n",
    "#daily_normals(\"01-01\")"
   ]
  },
  {
   "cell_type": "code",
   "execution_count": 41,
   "metadata": {},
   "outputs": [
    {
     "name": "stdout",
     "output_type": "stream",
     "text": [
      "['07-01', '07-02', '07-03', '07-04', '07-05', '07-06', '07-07', '07-08', '07-09', '07-10', '07-11', '07-12', '07-13', '07-14']\n"
     ]
    }
   ],
   "source": [
    "# Generate a list of dates in month/day format covering the planned trip period\n",
    "# Calculate the number of days on the trip\n",
    "n_days = (date_trip_end - date_trip_start).days + 1\n",
    "\n",
    "# Generate a list of dates for the trip, formatted as strings \"%m-%d\"\n",
    "t_dates = []\n",
    "for i in range(n_days):\n",
    "    c_date = date_trip_start + dt.timedelta(days=i)\n",
    "    t_dates.append( c_date.strftime(\"%m-%d\") )\n",
    "    \n",
    "print(t_dates)"
   ]
  },
  {
   "cell_type": "code",
   "execution_count": 42,
   "metadata": {},
   "outputs": [
    {
     "name": "stdout",
     "output_type": "stream",
     "text": [
      "[(67.0, 74.77777777777777, 81.0), (68.0, 75.40384615384616, 82.0), (68.0, 75.32075471698113, 87.0), (70.0, 76.57142857142857, 81.0), (66.0, 75.0, 81.0), (69.0, 75.0, 81.0), (69.0, 74.91071428571429, 82.0), (69.0, 76.08333333333333, 83.0), (68.0, 76.19298245614036, 83.0), (68.0, 75.62068965517241, 82.0), (70.0, 75.78947368421052, 81.0), (67.0, 75.96491228070175, 82.0), (69.0, 76.1896551724138, 81.0), (61.0, 76.2280701754386, 82.0)]\n"
     ]
    }
   ],
   "source": [
    "# Generate a list of tuples of (date, daily normal) for the trip dates\n",
    "t_normals = []\n",
    "for d in t_dates:\n",
    "    t_normals.append( *daily_normals(d) )\n",
    "print(t_normals)"
   ]
  },
  {
   "cell_type": "code",
   "execution_count": 43,
   "metadata": {},
   "outputs": [
    {
     "data": {
      "text/html": [
       "<div>\n",
       "<style scoped>\n",
       "    .dataframe tbody tr th:only-of-type {\n",
       "        vertical-align: middle;\n",
       "    }\n",
       "\n",
       "    .dataframe tbody tr th {\n",
       "        vertical-align: top;\n",
       "    }\n",
       "\n",
       "    .dataframe thead th {\n",
       "        text-align: right;\n",
       "    }\n",
       "</style>\n",
       "<table border=\"1\" class=\"dataframe\">\n",
       "  <thead>\n",
       "    <tr style=\"text-align: right;\">\n",
       "      <th></th>\n",
       "      <th>Min. Temp</th>\n",
       "      <th>Avg. Temp</th>\n",
       "      <th>Max. Temp</th>\n",
       "    </tr>\n",
       "    <tr>\n",
       "      <th>Date</th>\n",
       "      <th></th>\n",
       "      <th></th>\n",
       "      <th></th>\n",
       "    </tr>\n",
       "  </thead>\n",
       "  <tbody>\n",
       "    <tr>\n",
       "      <th>07-01</th>\n",
       "      <td>67.0</td>\n",
       "      <td>74.777778</td>\n",
       "      <td>81.0</td>\n",
       "    </tr>\n",
       "    <tr>\n",
       "      <th>07-02</th>\n",
       "      <td>68.0</td>\n",
       "      <td>75.403846</td>\n",
       "      <td>82.0</td>\n",
       "    </tr>\n",
       "    <tr>\n",
       "      <th>07-03</th>\n",
       "      <td>68.0</td>\n",
       "      <td>75.320755</td>\n",
       "      <td>87.0</td>\n",
       "    </tr>\n",
       "    <tr>\n",
       "      <th>07-04</th>\n",
       "      <td>70.0</td>\n",
       "      <td>76.571429</td>\n",
       "      <td>81.0</td>\n",
       "    </tr>\n",
       "    <tr>\n",
       "      <th>07-05</th>\n",
       "      <td>66.0</td>\n",
       "      <td>75.000000</td>\n",
       "      <td>81.0</td>\n",
       "    </tr>\n",
       "  </tbody>\n",
       "</table>\n",
       "</div>"
      ],
      "text/plain": [
       "       Min. Temp  Avg. Temp  Max. Temp\n",
       "Date                                  \n",
       "07-01       67.0  74.777778       81.0\n",
       "07-02       68.0  75.403846       82.0\n",
       "07-03       68.0  75.320755       87.0\n",
       "07-04       70.0  76.571429       81.0\n",
       "07-05       66.0  75.000000       81.0"
      ]
     },
     "execution_count": 43,
     "metadata": {},
     "output_type": "execute_result"
    }
   ],
   "source": [
    "# Load the daily normals into a dataframe\n",
    "# Load the query results into a DataFrame, set index to the date column, sort by date\n",
    "# normals_df = pd.DataFrame(t_normals, index=t_dates, columns=['Min. Temp', 'Avg. Temp', 'Max. Temp']).set_index(keys='Date').sort_values(by='Date')\n",
    "normals_df = pd.DataFrame(t_normals, index=t_dates, columns=['Min. Temp', 'Avg. Temp', 'Max. Temp']).sort_index()\n",
    "normals_df.index.name = 'Date'\n",
    "normals_df.head()"
   ]
  },
  {
   "cell_type": "code",
   "execution_count": 44,
   "metadata": {},
   "outputs": [
    {
     "name": "stdout",
     "output_type": "stream",
     "text": [
      "['07-01', '07-02', '07-03', '07-04', '07-05', '07-06', '07-07', '07-08', '07-09', '07-10', '07-11', '07-12', '07-13', '07-14']\n"
     ]
    }
   ],
   "source": [
    "print(list(normals_df.index))"
   ]
  },
  {
   "cell_type": "code",
   "execution_count": 45,
   "metadata": {},
   "outputs": [
    {
     "data": {
      "image/png": "[encoded data removed]",
      "text/plain": [
       "<Figure size 720x360 with 1 Axes>"
      ]
     },
     "metadata": {
      "needs_background": "light"
     },
     "output_type": "display_data"
    }
   ],
   "source": [
    "# Plot the daily normals as an area plot with `stacked=False`\n",
    "# Plot the results as a line graph\n",
    "\n",
    "n_title =  f\"Projected Average Temperature in Hawaii\" + chr(10)\\\n",
    "          + f\"During Planned Trip period {date_trip_start:%m-%d-%y} through {date_trip_end:%m-%d-%y}\" + chr(10)\\\n",
    "          + f\"(Based upon all years in the sample period {p_date_start:%m-%d} through {p_date_end:%m-%d})\"\n",
    "\n",
    "ax = normals_df.plot.area(y=['Max. Temp', 'Avg. Temp','Min. Temp'],\n",
    "                          figsize=(10,5), title=n_title, stacked=False)\n",
    "ax.set_ylabel(\"Temperature (deg F)\")\n",
    "ax.set_xlabel(\"Date\")\n",
    "ax.set_xticks(range(len(normals_df.index)))\n",
    "ax.set_xticklabels(list(normals_df.index), rotation=45)\n",
    "\n",
    "plt.tight_layout()\n",
    "plt.show()"
   ]
  },
  {
   "cell_type": "code",
   "execution_count": null,
   "metadata": {},
   "outputs": [],
   "source": []
  },
  {
   "cell_type": "code",
   "execution_count": 64,
   "metadata": {},
   "outputs": [
    {
     "ename": "RuntimeError",
     "evalue": "Working outside of application context.\n\nThis typically means that you attempted to use functionality that needed\nto interface with the current application object in some way. To solve\nthis, set up an application context with app.app_context().  See the\ndocumentation for more information.",
     "output_type": "error",
     "traceback": [
      "\u001b[1;31m---------------------------------------------------------------------------\u001b[0m",
      "\u001b[1;31mRuntimeError\u001b[0m                              Traceback (most recent call last)",
      "\u001b[1;32m<ipython-input-64-60b062011384>\u001b[0m in \u001b[0;36m<module>\u001b[1;34m()\u001b[0m\n\u001b[0;32m     12\u001b[0m \u001b[1;33m\u001b[0m\u001b[0m\n\u001b[0;32m     13\u001b[0m \u001b[1;31m# Generate the JSON return string\u001b[0m\u001b[1;33m\u001b[0m\u001b[1;33m\u001b[0m\u001b[0m\n\u001b[1;32m---> 14\u001b[1;33m \u001b[0mpprint\u001b[0m\u001b[1;33m(\u001b[0m \u001b[0mjsonify\u001b[0m\u001b[1;33m(\u001b[0m\u001b[0mr_list\u001b[0m\u001b[1;33m)\u001b[0m \u001b[1;33m)\u001b[0m\u001b[1;33m\u001b[0m\u001b[0m\n\u001b[0m",
      "\u001b[1;32m~\\AppData\\Local\\conda\\conda\\envs\\PythonData\\lib\\site-packages\\flask\\json\\__init__.py\u001b[0m in \u001b[0;36mjsonify\u001b[1;34m(*args, **kwargs)\u001b[0m\n\u001b[0;32m    307\u001b[0m     \u001b[0mseparators\u001b[0m \u001b[1;33m=\u001b[0m \u001b[1;33m(\u001b[0m\u001b[1;34m','\u001b[0m\u001b[1;33m,\u001b[0m \u001b[1;34m':'\u001b[0m\u001b[1;33m)\u001b[0m\u001b[1;33m\u001b[0m\u001b[0m\n\u001b[0;32m    308\u001b[0m \u001b[1;33m\u001b[0m\u001b[0m\n\u001b[1;32m--> 309\u001b[1;33m     \u001b[1;32mif\u001b[0m \u001b[0mcurrent_app\u001b[0m\u001b[1;33m.\u001b[0m\u001b[0mconfig\u001b[0m\u001b[1;33m[\u001b[0m\u001b[1;34m'JSONIFY_PRETTYPRINT_REGULAR'\u001b[0m\u001b[1;33m]\u001b[0m \u001b[1;32mor\u001b[0m \u001b[0mcurrent_app\u001b[0m\u001b[1;33m.\u001b[0m\u001b[0mdebug\u001b[0m\u001b[1;33m:\u001b[0m\u001b[1;33m\u001b[0m\u001b[0m\n\u001b[0m\u001b[0;32m    310\u001b[0m         \u001b[0mindent\u001b[0m \u001b[1;33m=\u001b[0m \u001b[1;36m2\u001b[0m\u001b[1;33m\u001b[0m\u001b[0m\n\u001b[0;32m    311\u001b[0m         \u001b[0mseparators\u001b[0m \u001b[1;33m=\u001b[0m \u001b[1;33m(\u001b[0m\u001b[1;34m', '\u001b[0m\u001b[1;33m,\u001b[0m \u001b[1;34m': '\u001b[0m\u001b[1;33m)\u001b[0m\u001b[1;33m\u001b[0m\u001b[0m\n",
      "\u001b[1;32m~\\AppData\\Local\\conda\\conda\\envs\\PythonData\\lib\\site-packages\\werkzeug\\local.py\u001b[0m in \u001b[0;36m__getattr__\u001b[1;34m(self, name)\u001b[0m\n\u001b[0;32m    345\u001b[0m         \u001b[1;32mif\u001b[0m \u001b[0mname\u001b[0m \u001b[1;33m==\u001b[0m \u001b[1;34m'__members__'\u001b[0m\u001b[1;33m:\u001b[0m\u001b[1;33m\u001b[0m\u001b[0m\n\u001b[0;32m    346\u001b[0m             \u001b[1;32mreturn\u001b[0m \u001b[0mdir\u001b[0m\u001b[1;33m(\u001b[0m\u001b[0mself\u001b[0m\u001b[1;33m.\u001b[0m\u001b[0m_get_current_object\u001b[0m\u001b[1;33m(\u001b[0m\u001b[1;33m)\u001b[0m\u001b[1;33m)\u001b[0m\u001b[1;33m\u001b[0m\u001b[0m\n\u001b[1;32m--> 347\u001b[1;33m         \u001b[1;32mreturn\u001b[0m \u001b[0mgetattr\u001b[0m\u001b[1;33m(\u001b[0m\u001b[0mself\u001b[0m\u001b[1;33m.\u001b[0m\u001b[0m_get_current_object\u001b[0m\u001b[1;33m(\u001b[0m\u001b[1;33m)\u001b[0m\u001b[1;33m,\u001b[0m \u001b[0mname\u001b[0m\u001b[1;33m)\u001b[0m\u001b[1;33m\u001b[0m\u001b[0m\n\u001b[0m\u001b[0;32m    348\u001b[0m \u001b[1;33m\u001b[0m\u001b[0m\n\u001b[0;32m    349\u001b[0m     \u001b[1;32mdef\u001b[0m \u001b[0m__setitem__\u001b[0m\u001b[1;33m(\u001b[0m\u001b[0mself\u001b[0m\u001b[1;33m,\u001b[0m \u001b[0mkey\u001b[0m\u001b[1;33m,\u001b[0m \u001b[0mvalue\u001b[0m\u001b[1;33m)\u001b[0m\u001b[1;33m:\u001b[0m\u001b[1;33m\u001b[0m\u001b[0m\n",
      "\u001b[1;32m~\\AppData\\Local\\conda\\conda\\envs\\PythonData\\lib\\site-packages\\werkzeug\\local.py\u001b[0m in \u001b[0;36m_get_current_object\u001b[1;34m(self)\u001b[0m\n\u001b[0;32m    304\u001b[0m         \"\"\"\n\u001b[0;32m    305\u001b[0m         \u001b[1;32mif\u001b[0m \u001b[1;32mnot\u001b[0m \u001b[0mhasattr\u001b[0m\u001b[1;33m(\u001b[0m\u001b[0mself\u001b[0m\u001b[1;33m.\u001b[0m\u001b[0m__local\u001b[0m\u001b[1;33m,\u001b[0m \u001b[1;34m'__release_local__'\u001b[0m\u001b[1;33m)\u001b[0m\u001b[1;33m:\u001b[0m\u001b[1;33m\u001b[0m\u001b[0m\n\u001b[1;32m--> 306\u001b[1;33m             \u001b[1;32mreturn\u001b[0m \u001b[0mself\u001b[0m\u001b[1;33m.\u001b[0m\u001b[0m__local\u001b[0m\u001b[1;33m(\u001b[0m\u001b[1;33m)\u001b[0m\u001b[1;33m\u001b[0m\u001b[0m\n\u001b[0m\u001b[0;32m    307\u001b[0m         \u001b[1;32mtry\u001b[0m\u001b[1;33m:\u001b[0m\u001b[1;33m\u001b[0m\u001b[0m\n\u001b[0;32m    308\u001b[0m             \u001b[1;32mreturn\u001b[0m \u001b[0mgetattr\u001b[0m\u001b[1;33m(\u001b[0m\u001b[0mself\u001b[0m\u001b[1;33m.\u001b[0m\u001b[0m__local\u001b[0m\u001b[1;33m,\u001b[0m \u001b[0mself\u001b[0m\u001b[1;33m.\u001b[0m\u001b[0m__name__\u001b[0m\u001b[1;33m)\u001b[0m\u001b[1;33m\u001b[0m\u001b[0m\n",
      "\u001b[1;32m~\\AppData\\Local\\conda\\conda\\envs\\PythonData\\lib\\site-packages\\flask\\globals.py\u001b[0m in \u001b[0;36m_find_app\u001b[1;34m()\u001b[0m\n\u001b[0;32m     49\u001b[0m     \u001b[0mtop\u001b[0m \u001b[1;33m=\u001b[0m \u001b[0m_app_ctx_stack\u001b[0m\u001b[1;33m.\u001b[0m\u001b[0mtop\u001b[0m\u001b[1;33m\u001b[0m\u001b[0m\n\u001b[0;32m     50\u001b[0m     \u001b[1;32mif\u001b[0m \u001b[0mtop\u001b[0m \u001b[1;32mis\u001b[0m \u001b[1;32mNone\u001b[0m\u001b[1;33m:\u001b[0m\u001b[1;33m\u001b[0m\u001b[0m\n\u001b[1;32m---> 51\u001b[1;33m         \u001b[1;32mraise\u001b[0m \u001b[0mRuntimeError\u001b[0m\u001b[1;33m(\u001b[0m\u001b[0m_app_ctx_err_msg\u001b[0m\u001b[1;33m)\u001b[0m\u001b[1;33m\u001b[0m\u001b[0m\n\u001b[0m\u001b[0;32m     52\u001b[0m     \u001b[1;32mreturn\u001b[0m \u001b[0mtop\u001b[0m\u001b[1;33m.\u001b[0m\u001b[0mapp\u001b[0m\u001b[1;33m\u001b[0m\u001b[0m\n\u001b[0;32m     53\u001b[0m \u001b[1;33m\u001b[0m\u001b[0m\n",
      "\u001b[1;31mRuntimeError\u001b[0m: Working outside of application context.\n\nThis typically means that you attempted to use functionality that needed\nto interface with the current application object in some way. To solve\nthis, set up an application context with app.app_context().  See the\ndocumentation for more information."
     ]
    }
   ],
   "source": [
    "# Query for all measurements\n",
    "results = session.query(Measurement.date, Measurement.prcp)\n",
    "\n",
    "# Create a dictionary from the query results\n",
    "# Create a dictionary from query results\n",
    "r_list = []\n",
    "for r in results:\n",
    "    r_dict = {}\n",
    "    r_dict[\"date\"] = r.date\n",
    "    r_dict[\"prcp\"] = r.prcp\n",
    "    r_list.append(r_dict)\n",
    "\n",
    "# Generate the JSON return string\n",
    "pprint( jsonify(r_list) )"
   ]
  },
  {
   "cell_type": "code",
   "execution_count": null,
   "metadata": {},
   "outputs": [],
   "source": []
  }
 ],
 "metadata": {
  "kernel_info": {
   "name": "python3"
  },
  "kernelspec": {
   "display_name": "Python 3",
   "language": "python",
   "name": "python3"
  },
  "language_info": {
   "codemirror_mode": {
    "name": "ipython",
    "version": 3
   },
   "file_extension": ".py",
   "mimetype": "text/x-python",
   "name": "python",
   "nbconvert_exporter": "python",
   "pygments_lexer": "ipython3",
   "version": "3.6.6"
  },
  "nteract": {
   "version": "0.9.1"
  },
  "varInspector": {
   "cols": {
    "lenName": 16,
    "lenType": 16,
    "lenVar": 40
   },
   "kernels_config": {
    "python": {
     "delete_cmd_postfix": "",
     "delete_cmd_prefix": "del ",
     "library": "var_list.py",
     "varRefreshCmd": "print(var_dic_list())"
    },
    "r": {
     "delete_cmd_postfix": ") ",
     "delete_cmd_prefix": "rm(",
     "library": "var_list.r",
     "varRefreshCmd": "cat(var_dic_list()) "
    }
   },
   "types_to_exclude": [
    "module",
    "function",
    "builtin_function_or_method",
    "instance",
    "_Feature"
   ],
   "window_display": false
  }
 },
 "nbformat": 4,
 "nbformat_minor": 2
}
